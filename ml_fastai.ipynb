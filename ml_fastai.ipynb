{
  "nbformat": 4,
  "nbformat_minor": 0,
  "metadata": {
    "colab": {
      "name": "ml-fastai.ipynb",
      "version": "0.3.2",
      "provenance": [],
      "collapsed_sections": [
        "xJZkKPLANJtt",
        "YLd9tlS8R444",
        "44z9-Z4YmFCU",
        "SSkmt8FA8Y-H"
      ],
      "toc_visible": true
    },
    "kernelspec": {
      "name": "python3",
      "display_name": "Python 3"
    },
    "accelerator": "GPU"
  },
  "cells": [
    {
      "cell_type": "markdown",
      "metadata": {
        "id": "xJZkKPLANJtt",
        "colab_type": "text"
      },
      "source": [
        "# Imports and loads"
      ]
    },
    {
      "cell_type": "code",
      "metadata": {
        "id": "vkaf3apxWAta",
        "colab_type": "code",
        "colab": {}
      },
      "source": [
        "%load_ext autoreload\n",
        "%autoreload 2\n",
        "\n",
        "%matplotlib inline"
      ],
      "execution_count": 0,
      "outputs": []
    },
    {
      "cell_type": "code",
      "metadata": {
        "id": "HDEfov56RepK",
        "colab_type": "code",
        "colab": {}
      },
      "source": [
        "from fastai.imports import *\n",
        "from fastai.structured import *\n",
        "\n",
        "from pandas_summary import DataFrameSummary\n",
        "from sklearn.ensemble import RandomForestRegressor, RandomForestClassifier\n",
        "from IPython.display import display\n",
        "\n",
        "from sklearn import metrics"
      ],
      "execution_count": 0,
      "outputs": []
    },
    {
      "cell_type": "code",
      "metadata": {
        "id": "tF4JAyVsEc0e",
        "colab_type": "code",
        "colab": {}
      },
      "source": [
        "!kaggle competitions download -c bluebook-for-bulldozers -p /content\n",
        "!unzip *.zip\n",
        "!unzip Train.zip\n",
        "!ls *.zip *.csv"
      ],
      "execution_count": 0,
      "outputs": []
    },
    {
      "cell_type": "code",
      "metadata": {
        "id": "2C_kGEmpJi0P",
        "colab_type": "code",
        "outputId": "a25deab9-2718-4ec3-e7ac-994b5d5f5689",
        "colab": {
          "base_uri": "https://localhost:8080/",
          "height": 51
        }
      },
      "source": [
        "%time df = pd.read_csv('Train.csv', low_memory=False, parse_dates=[\"saledate\"])"
      ],
      "execution_count": 0,
      "outputs": [
        {
          "output_type": "stream",
          "text": [
            "CPU times: user 1min 11s, sys: 622 ms, total: 1min 12s\n",
            "Wall time: 1min 13s\n"
          ],
          "name": "stdout"
        }
      ]
    },
    {
      "cell_type": "markdown",
      "metadata": {
        "id": "YLd9tlS8R444",
        "colab_type": "text"
      },
      "source": [
        "# Lesson 1"
      ]
    },
    {
      "cell_type": "markdown",
      "metadata": {
        "id": "uBd4q44dN7hL",
        "colab_type": "text"
      },
      "source": [
        "### Data exploration"
      ]
    },
    {
      "cell_type": "code",
      "metadata": {
        "id": "NP8Jz6MQMjD7",
        "colab_type": "code",
        "colab": {}
      },
      "source": [
        "# 'summary'\n",
        "df.describe()"
      ],
      "execution_count": 0,
      "outputs": []
    },
    {
      "cell_type": "code",
      "metadata": {
        "id": "hdE72q5LCJUS",
        "colab_type": "code",
        "colab": {}
      },
      "source": [
        "df.info()"
      ],
      "execution_count": 0,
      "outputs": []
    },
    {
      "cell_type": "code",
      "metadata": {
        "id": "zWqoqzWTfCMX",
        "colab_type": "code",
        "colab": {}
      },
      "source": [
        "df.shape()"
      ],
      "execution_count": 0,
      "outputs": []
    },
    {
      "cell_type": "code",
      "metadata": {
        "id": "kSHIN7DbNuhe",
        "colab_type": "code",
        "colab": {}
      },
      "source": [
        "# columns\n",
        "df.columns"
      ],
      "execution_count": 0,
      "outputs": []
    },
    {
      "cell_type": "code",
      "metadata": {
        "id": "efcT-JTqNBPB",
        "colab_type": "code",
        "colab": {}
      },
      "source": [
        "# quantiles\n",
        "df.quantile([0,0.25,0.5,0.75,1])"
      ],
      "execution_count": 0,
      "outputs": []
    },
    {
      "cell_type": "code",
      "metadata": {
        "id": "peVHl6EoO3QP",
        "colab_type": "code",
        "colab": {}
      },
      "source": [
        "# head\n",
        "#df.head()\n",
        "\n",
        "# tail\n",
        "df.tail().T # == df.tail().transpose()"
      ],
      "execution_count": 0,
      "outputs": []
    },
    {
      "cell_type": "code",
      "metadata": {
        "id": "bZ2-u5FxhUSf",
        "colab_type": "code",
        "colab": {}
      },
      "source": [
        "fld = df.saledate\n",
        "fld.dt.year"
      ],
      "execution_count": 0,
      "outputs": []
    },
    {
      "cell_type": "markdown",
      "metadata": {
        "id": "kffYACgyR0TG",
        "colab_type": "text"
      },
      "source": [
        ""
      ]
    },
    {
      "cell_type": "markdown",
      "metadata": {
        "id": "8obgK5lSUDTL",
        "colab_type": "text"
      },
      "source": [
        "### Training a base model"
      ]
    },
    {
      "cell_type": "code",
      "metadata": {
        "id": "Dd9LLBOxX7IX",
        "colab_type": "code",
        "colab": {}
      },
      "source": [
        "# função que altera os parametros de display do pandas\n",
        "def display_all(df):\n",
        "    with pd.option_context(\"display.max_rows\", 1000, \"display.max_columns\", 1000): \n",
        "        display(df)\n",
        "        \n",
        "display_all(df.isnull().sum().sort_index()/len(df))"
      ],
      "execution_count": 0,
      "outputs": []
    },
    {
      "cell_type": "markdown",
      "metadata": {
        "id": "-QvMRawx2Yu3",
        "colab_type": "text"
      },
      "source": [
        "#### Pre-processing data"
      ]
    },
    {
      "cell_type": "code",
      "metadata": {
        "id": "qW8f762oyqHn",
        "colab_type": "code",
        "colab": {}
      },
      "source": [
        "# função que cria uma coluna \"_na\" e preenche os dados com a mediana\n",
        "def fix_missing(df, col, name):\n",
        "  if is_numeric_dtype(col):\n",
        "    if pd.isnull(col).sum(): df[name+\"_na\"] = pd.isnull(col)\n",
        "    df[name] = col.fillna(col.median())"
      ],
      "execution_count": 0,
      "outputs": []
    },
    {
      "cell_type": "code",
      "metadata": {
        "id": "0WorZt_g14sI",
        "colab_type": "code",
        "colab": {}
      },
      "source": [
        "def numericalize(df, col, name, max_n_cat):\n",
        "  if not is_numeric_dtype(col) and (max_n_cat is None or col.nunique()>max_n_cat):\n",
        "    df[name] = col.cat.codes+1"
      ],
      "execution_count": 0,
      "outputs": []
    },
    {
      "cell_type": "markdown",
      "metadata": {
        "id": "aC9Xf1GKcNXW",
        "colab_type": "text"
      },
      "source": [
        "After running `add_datepart`, it added many numerical columns and removed saledate column.      \n",
        "\n",
        "This is not quite enough to get passed the error we saw earlier as we still have other columns that contain string values. Pandas has a concept of a category data type, but by default it would not turn anything into a category for you. Fast.ai provides a function called `train_cats` which creates categorical variables for everything that is a String. Behind the scenes, it creates a column that is an integer and it is going to store a mapping from the integers to the strings. `train_cats` is called “train” because it is training data specific.           \n",
        "\n",
        "It is important that validation and test sets will use the same category mappings (in other words, if you used 1 for “high” for a training dataset, then 1 should also be for “high” in validation and test datasets). For validation and test dataset, use `apply_cats` instead."
      ]
    },
    {
      "cell_type": "code",
      "metadata": {
        "id": "dKqs-zgC_m7L",
        "colab_type": "code",
        "colab": {}
      },
      "source": [
        "df['SalePrice'] = np.log(df['SalePrice'])\n",
        "\n",
        "# Função do fastai que formata datas\n",
        "add_datepart(df,'saledate')\n",
        "\n",
        "# Função que converte strings -> numérico\n",
        "train_cats(df)\n",
        "\n",
        "#df1, y, nas = proc_df(df, 'SalePrice')"
      ],
      "execution_count": 0,
      "outputs": []
    },
    {
      "cell_type": "code",
      "metadata": {
        "id": "UWpvKcFZXLSh",
        "colab_type": "code",
        "colab": {}
      },
      "source": [
        "# função 'levels' das variáveis categóricas (exploratório)\n",
        "#df1.UsageBand.cat.categories\n",
        "\n",
        "# método para alterar os níveis das vars categóricas\n",
        "#df1.UsageBand.cat.set_categories(['High', 'Medium', 'Low'], ordered=True, inplace=True)\n",
        "\n",
        "#Normally, pandas will continue displaying the text categories, while treating them as numerical data internally. \n",
        "#Optionally, we can replace the text categories with numbers, which will make this variable non-categorical\n",
        "#df1.UsageBand = df1.UsageBand.cat.codes"
      ],
      "execution_count": 0,
      "outputs": []
    },
    {
      "cell_type": "code",
      "metadata": {
        "id": "ssW3onCGYDrn",
        "colab_type": "code",
        "colab": {}
      },
      "source": [
        "# R equivalent: is.null\n",
        "#df1.isnull()\n",
        "\n",
        "# proporção de nulos por coluna\n",
        "#df1.isnull().sum().sort_index()/len(df)"
      ],
      "execution_count": 0,
      "outputs": []
    },
    {
      "cell_type": "markdown",
      "metadata": {
        "id": "rXWThzPldbQ6",
        "colab_type": "text"
      },
      "source": [
        "#### Splitting train, test      \n",
        "avoid overfitting"
      ]
    },
    {
      "cell_type": "code",
      "metadata": {
        "id": "zx0IeQ9Jdlbb",
        "colab_type": "code",
        "colab": {}
      },
      "source": [
        "# função que retorna dois datasets cortados na posição n (não aleatório)\n",
        "def split_vals(a,n): return a[:n].copy(), a[n:].copy()"
      ],
      "execution_count": 0,
      "outputs": []
    },
    {
      "cell_type": "code",
      "metadata": {
        "id": "SuanM3a8d4hE",
        "colab_type": "code",
        "colab": {}
      },
      "source": [
        "n_valid = 12000  # same as Kaggle's test set size\n",
        "n_trn = len(df1)-n_valid\n",
        "raw_train, raw_valid = split_vals(df1, n_trn)\n",
        "X_train, X_valid = split_vals(df1, n_trn)\n",
        "y_train, y_valid = split_vals(y, n_trn)\n",
        "\n",
        "X_train.shape, y_train.shape, X_valid.shape"
      ],
      "execution_count": 0,
      "outputs": []
    },
    {
      "cell_type": "code",
      "metadata": {
        "id": "4j6TZ_DzfaAb",
        "colab_type": "code",
        "colab": {}
      },
      "source": [
        "def rmse(x,y): return math.sqrt(((x-y)**2).mean())\n",
        "\n",
        "def print_score(m):\n",
        "    rmses = [rmse(m.predict(X_train), y_train), rmse(m.predict(X_valid), y_valid)]\n",
        "    scores = [m.score(X_train, y_train), m.score(X_valid, y_valid)]\n",
        "    if hasattr(m, 'oob_score_'): scores.append(m.oob_score_)\n",
        "    print(\"RMSEs:\")\n",
        "    print(rmses)\n",
        "    print(\"R-squared:\")\n",
        "    print(scores)"
      ],
      "execution_count": 0,
      "outputs": []
    },
    {
      "cell_type": "code",
      "metadata": {
        "id": "Es0Wro2IGOnD",
        "colab_type": "code",
        "colab": {}
      },
      "source": [
        "model = RandomForestRegressor(n_jobs=-1)\n",
        "%time model.fit(X_train, y_train)"
      ],
      "execution_count": 0,
      "outputs": []
    },
    {
      "cell_type": "code",
      "metadata": {
        "id": "SB5Kr-h3jGj1",
        "colab_type": "code",
        "outputId": "48a8ecbd-8e16-47ec-ec92-0c922a8b1bae",
        "colab": {
          "base_uri": "https://localhost:8080/",
          "height": 85
        }
      },
      "source": [
        "# RMSE e R^2\n",
        "print_score(model)"
      ],
      "execution_count": 0,
      "outputs": [
        {
          "output_type": "stream",
          "text": [
            "RMSEs:\n",
            "[0.09071769696554534, 0.24845082174679786]\n",
            "R-squared:\n",
            "[0.9828003797297382, 0.889762628594108]\n"
          ],
          "name": "stdout"
        }
      ]
    },
    {
      "cell_type": "markdown",
      "metadata": {
        "id": "44z9-Z4YmFCU",
        "colab_type": "text"
      },
      "source": [
        "### Speeding things up       \n",
        "using subsets for faster learning"
      ]
    },
    {
      "cell_type": "code",
      "metadata": {
        "id": "7pzPztGijLdX",
        "colab_type": "code",
        "colab": {}
      },
      "source": [
        "# 'subset' of proc_df extracts a random sample from df. Split_vals gets a non-random sample (1:n, and n:)\n",
        "df_trn, y_trn, nas = proc_df(df, 'SalePrice', subset=30000, na_dict=nas)\n",
        "X_train, _ = split_vals(df_trn, 20000)\n",
        "y_train, _ = split_vals(y_trn, 20000)"
      ],
      "execution_count": 0,
      "outputs": []
    },
    {
      "cell_type": "code",
      "metadata": {
        "id": "4jPYr21dmonS",
        "colab_type": "code",
        "colab": {}
      },
      "source": [
        "model = RandomForestRegressor(n_jobs=-1)\n",
        "%time model.fit(X_train, y_train)"
      ],
      "execution_count": 0,
      "outputs": []
    },
    {
      "cell_type": "code",
      "metadata": {
        "id": "B0aasSiqmtHV",
        "colab_type": "code",
        "outputId": "4c411fd2-4032-4ba2-c1c4-bda790477cf6",
        "colab": {
          "base_uri": "https://localhost:8080/"
        }
      },
      "source": [
        "# RMSE e R^2\n",
        "print_score(model)"
      ],
      "execution_count": 0,
      "outputs": [
        {
          "output_type": "stream",
          "text": [
            "RMSEs:\n",
            "[0.11211366828424382, 0.38517428196090564]\n",
            "R-squared:\n",
            "[0.9724867244284848, 0.7350508459212594]\n"
          ],
          "name": "stdout"
        }
      ]
    },
    {
      "cell_type": "markdown",
      "metadata": {
        "id": "ME_44Lc1m4Im",
        "colab_type": "text"
      },
      "source": [
        "#### Estimating a Single Tree"
      ]
    },
    {
      "cell_type": "code",
      "metadata": {
        "id": "ccLI6vAmm-Ap",
        "colab_type": "code",
        "outputId": "0c0a0318-55af-4f4e-f6a3-8bdccb0622e3",
        "colab": {
          "base_uri": "https://localhost:8080/"
        }
      },
      "source": [
        "# 'n_estimators' = numero de arvores, 'max_depth' = numero de cortes (splits)\n",
        "# 'bootstrap' = Whether bootstrap samples are used when building trees. If False, the whole datset is used to build each tree.\n",
        "model = RandomForestRegressor(n_estimators=1, max_depth=3, bootstrap=False, n_jobs=-1)\n",
        "%time model.fit(X_train, y_train)"
      ],
      "execution_count": 0,
      "outputs": [
        {
          "output_type": "stream",
          "text": [
            "CPU times: user 153 ms, sys: 14 ms, total: 167 ms\n",
            "Wall time: 194 ms\n"
          ],
          "name": "stdout"
        },
        {
          "output_type": "execute_result",
          "data": {
            "text/plain": [
              "RandomForestRegressor(bootstrap=False, criterion='mse', max_depth=3,\n",
              "                      max_features='auto', max_leaf_nodes=None,\n",
              "                      min_impurity_decrease=0.0, min_impurity_split=None,\n",
              "                      min_samples_leaf=1, min_samples_split=2,\n",
              "                      min_weight_fraction_leaf=0.0, n_estimators=1, n_jobs=-1,\n",
              "                      oob_score=False, random_state=None, verbose=0,\n",
              "                      warm_start=False)"
            ]
          },
          "metadata": {
            "tags": []
          },
          "execution_count": 88
        }
      ]
    },
    {
      "cell_type": "code",
      "metadata": {
        "id": "iBcMjmhcoAum",
        "colab_type": "code",
        "outputId": "60f3e3ee-fc29-47e2-9a9b-aca267678a70",
        "colab": {
          "base_uri": "https://localhost:8080/",
          "height": 90
        }
      },
      "source": [
        "print_score(model)"
      ],
      "execution_count": 0,
      "outputs": [
        {
          "output_type": "stream",
          "text": [
            "RMSEs:\n",
            "[0.5241183153725063, 0.5798358906438746]\n",
            "R-squared:\n",
            "[0.39871018762448407, 0.39957583669327423]\n"
          ],
          "name": "stdout"
        }
      ]
    },
    {
      "cell_type": "code",
      "metadata": {
        "id": "ihJYcU1tnljm",
        "colab_type": "code",
        "colab": {}
      },
      "source": [
        "# Representação gráfica de uma árvore\n",
        "draw_tree(model.estimators_[0],df_trn, precision=3)"
      ],
      "execution_count": 0,
      "outputs": []
    },
    {
      "cell_type": "markdown",
      "metadata": {
        "id": "Fjl2XbxGsoxo",
        "colab_type": "text"
      },
      "source": [
        "#### Creating a bigger tree"
      ]
    },
    {
      "cell_type": "code",
      "metadata": {
        "id": "aL5aCke8r3_N",
        "colab_type": "code",
        "colab": {}
      },
      "source": [
        "# max_depth='None'\n",
        "model = RandomForestRegressor(n_estimators=1, bootstrap=False, n_jobs=-1)\n",
        "%time model.fit(X_train, y_train)\n",
        "print_score(model)\n",
        "# Worse than our original model"
      ],
      "execution_count": 0,
      "outputs": []
    },
    {
      "cell_type": "markdown",
      "metadata": {
        "id": "SSkmt8FA8Y-H",
        "colab_type": "text"
      },
      "source": [
        "### Bagging"
      ]
    },
    {
      "cell_type": "code",
      "metadata": {
        "id": "f0YKgBYjtQvm",
        "colab_type": "code",
        "colab": {}
      },
      "source": [
        "m = RandomForestRegressor(n_jobs=-1)\n",
        "m.fit(X_train, y_train)\n",
        "print_score(m)"
      ],
      "execution_count": 0,
      "outputs": []
    },
    {
      "cell_type": "code",
      "metadata": {
        "id": "cRxjIzTD8fD-",
        "colab_type": "code",
        "outputId": "73d60582-6d76-4b14-b806-097b529101de",
        "colab": {
          "base_uri": "https://localhost:8080/"
        }
      },
      "source": [
        "preds = np.stack([t.predict(X_valid) for t in m.estimators_])\n",
        "preds"
      ],
      "execution_count": 0,
      "outputs": [
        {
          "output_type": "execute_result",
          "data": {
            "text/plain": [
              "array([[9.25913, 9.71112, 9.04782, ..., 8.92266, 9.07681, 9.07681],\n",
              "       [9.30565, 9.3501 , 9.07681, ..., 9.39266, 9.43348, 9.43348],\n",
              "       [8.92266, 9.3501 , 9.15905, ..., 9.51044, 9.51044, 9.51044],\n",
              "       ...,\n",
              "       [8.92266, 9.15905, 9.15905, ..., 8.92266, 8.92266, 8.92266],\n",
              "       [9.97581, 9.15905, 9.04782, ..., 9.25913, 9.74097, 9.74097],\n",
              "       [8.9872 , 9.15905, 8.9872 , ..., 9.9988 , 9.6486 , 9.6486 ]])"
            ]
          },
          "metadata": {
            "tags": []
          },
          "execution_count": 106
        }
      ]
    },
    {
      "cell_type": "code",
      "metadata": {
        "id": "g2-bDk6M_KHa",
        "colab_type": "code",
        "outputId": "bc5e7841-0898-440a-ad3c-07beeedc9832",
        "colab": {
          "base_uri": "https://localhost:8080/"
        }
      },
      "source": [
        "preds[:,0], np.mean(preds[:,0]), y_valid[0]"
      ],
      "execution_count": 0,
      "outputs": [
        {
          "output_type": "execute_result",
          "data": {
            "text/plain": [
              "(array([9.25913, 9.30565, 8.92266, 9.04782, 8.92266, 8.92266, 8.92266, 8.92266, 9.97581, 8.9872 ]),\n",
              " 9.118889906280428,\n",
              " 9.104979856318357)"
            ]
          },
          "metadata": {
            "tags": []
          },
          "execution_count": 109
        }
      ]
    },
    {
      "cell_type": "code",
      "metadata": {
        "id": "Zzm-HYpcAEAb",
        "colab_type": "code",
        "colab": {}
      },
      "source": [
        "_ = matplotlib.pyplot.plot([metrics.r2_score(y_valid, np.mean(preds[:i+1], axis=0)) for i in range(10)])"
      ],
      "execution_count": 0,
      "outputs": []
    },
    {
      "cell_type": "code",
      "metadata": {
        "id": "OPXDJMmkAZxg",
        "colab_type": "code",
        "colab": {}
      },
      "source": [
        "m1 = RandomForestRegressor(n_estimators=20, n_jobs=-1)\n",
        "m1.fit(X_train, y_train)\n",
        "\n",
        "m2 = RandomForestRegressor(n_estimators=40, n_jobs=-1)\n",
        "m2.fit(X_train, y_train)\n",
        "\n",
        "m3 = RandomForestRegressor(n_estimators=60, n_jobs=-1)\n",
        "m3.fit(X_train, y_train)\n",
        "\n",
        "print_score(m1), print_score(m2), print_score(m3)"
      ],
      "execution_count": 0,
      "outputs": []
    },
    {
      "cell_type": "markdown",
      "metadata": {
        "id": "_PzOZT1qMff9",
        "colab_type": "text"
      },
      "source": [
        "#### Out-of-bag (OOB) score        \n",
        "Is our validation set worse than our training set because we're over-fitting, or because the validation set is for a different time period, or a bit of both? With the existing information we've shown, we can't tell. However, random forests have a very clever trick called out-of-bag (OOB) error which can handle this (and more!)             \n",
        "The idea is to calculate error on the training set, but only include the trees in the calculation of a row's error where that row was not included in training that tree. This allows us to see whether the model is over-fitting, without needing a separate validation set.             \n",
        "This also has the benefit of allowing us to see whether our model generalizes, even if we only have a small amount of data so want to avoid separating some out to create a validation set."
      ]
    },
    {
      "cell_type": "code",
      "metadata": {
        "id": "tbtflYV-MsCZ",
        "colab_type": "code",
        "outputId": "0a887d2d-b3dd-4612-c3eb-d9d56cb86923",
        "colab": {
          "base_uri": "https://localhost:8080/",
          "height": 90
        }
      },
      "source": [
        "m = RandomForestRegressor(n_estimators=40, n_jobs=-1, oob_score=True)\n",
        "m.fit(X_train, y_train)\n",
        "print_score(m)"
      ],
      "execution_count": 0,
      "outputs": [
        {
          "output_type": "stream",
          "text": [
            "RMSEs:\n",
            "[0.09670541378683264, 0.3632253231472383]\n",
            "R-squared:\n",
            "[0.9795295802570879, 0.7643864778020514, 0.8534221298338784]\n"
          ],
          "name": "stdout"
        }
      ]
    },
    {
      "cell_type": "markdown",
      "metadata": {
        "id": "FRzBIqKxPnXv",
        "colab_type": "text"
      },
      "source": [
        "### Reducing Overfitting"
      ]
    },
    {
      "cell_type": "code",
      "metadata": {
        "id": "zXXeut_FP-ba",
        "colab_type": "code",
        "colab": {}
      },
      "source": [
        "df_trn, y_trn, nas = proc_df(df, 'SalePrice')\n",
        "X_train, X_valid = split_vals(df_trn, n_trn)\n",
        "y_train, y_valid = split_vals(y_trn, n_trn)"
      ],
      "execution_count": 0,
      "outputs": []
    },
    {
      "cell_type": "markdown",
      "metadata": {
        "id": "rctBn8HSTyq7",
        "colab_type": "text"
      },
      "source": [
        "#### Subsampling"
      ]
    },
    {
      "cell_type": "code",
      "metadata": {
        "id": "xgtUbxuCQKJ6",
        "colab_type": "code",
        "colab": {}
      },
      "source": [
        "set_rf_samples(20000)\n",
        "# undo line above: reset_rf_samples()"
      ],
      "execution_count": 0,
      "outputs": []
    },
    {
      "cell_type": "code",
      "metadata": {
        "id": "JaGY5V91QSaw",
        "colab_type": "code",
        "outputId": "7d34d8da-e127-40b6-d503-1c2251166c00",
        "colab": {
          "base_uri": "https://localhost:8080/",
          "height": 153
        }
      },
      "source": [
        "m = RandomForestRegressor(n_jobs=-1, oob_score=True)\n",
        "%time m.fit(X_train, y_train)\n",
        "print_score(m)\n",
        "# fast performance with lower error"
      ],
      "execution_count": 0,
      "outputs": [
        {
          "output_type": "stream",
          "text": [
            "/usr/local/lib/python3.6/dist-packages/sklearn/ensemble/forest.py:245: FutureWarning: The default value of n_estimators will change from 10 in version 0.20 to 100 in 0.22.\n",
            "  \"10 in version 0.20 to 100 in 0.22.\", FutureWarning)\n"
          ],
          "name": "stderr"
        },
        {
          "output_type": "stream",
          "text": [
            "CPU times: user 11.2 s, sys: 124 ms, total: 11.3 s\n",
            "Wall time: 7.28 s\n",
            "RMSEs:\n",
            "[0.2404522224840547, 0.2773636898085969]\n",
            "R-squared:\n",
            "[0.8791650915830417, 0.8626125109303167, 0.8666484502884869]\n"
          ],
          "name": "stdout"
        }
      ]
    },
    {
      "cell_type": "code",
      "metadata": {
        "id": "CP7K4qAsSOhu",
        "colab_type": "code",
        "outputId": "36d2c9b4-529d-4446-850d-fd8badbd92d8",
        "colab": {
          "base_uri": "https://localhost:8080/",
          "height": 238
        }
      },
      "source": [
        "m1 = RandomForestRegressor(n_estimators=20, n_jobs=-1, oob_score=True)\n",
        "m1.fit(X_train, y_train)\n",
        "\n",
        "m2 = RandomForestRegressor(n_estimators=40, n_jobs=-1, oob_score=True)\n",
        "m2.fit(X_train, y_train)\n",
        "\n",
        "m3 = RandomForestRegressor(n_estimators=60, n_jobs=-1, oob_score=True)\n",
        "m3.fit(X_train, y_train)\n",
        "\n",
        "print_score(m1), print_score(m2), print_score(m3)"
      ],
      "execution_count": 0,
      "outputs": [
        {
          "output_type": "stream",
          "text": [
            "RMSEs:\n",
            "[0.23201202227219894, 0.2682992529145708]\n",
            "R-squared:\n",
            "[0.8874991496547435, 0.8714456133190257, 0.875566790341897]\n",
            "RMSEs:\n",
            "[0.2268143235144569, 0.26104130070702325]\n",
            "R-squared:\n",
            "[0.8924833360884015, 0.8783067685527927, 0.880969378290751]\n",
            "RMSEs:\n",
            "[0.22552969301870618, 0.2617220663850295]\n",
            "R-squared:\n",
            "[0.8936977924203511, 0.8776712170170742, 0.8822956883696145]\n"
          ],
          "name": "stdout"
        },
        {
          "output_type": "execute_result",
          "data": {
            "text/plain": [
              "(None, None, None)"
            ]
          },
          "metadata": {
            "tags": []
          },
          "execution_count": 147
        }
      ]
    },
    {
      "cell_type": "markdown",
      "metadata": {
        "id": "L17kz6gLT1Bq",
        "colab_type": "text"
      },
      "source": [
        "#### Tree building parameters"
      ]
    },
    {
      "cell_type": "code",
      "metadata": {
        "id": "qHCzfad4T6by",
        "colab_type": "code",
        "colab": {}
      },
      "source": [
        "reset_rf_samples()"
      ],
      "execution_count": 0,
      "outputs": []
    },
    {
      "cell_type": "code",
      "metadata": {
        "id": "XZhB_oCfUHKp",
        "colab_type": "code",
        "colab": {}
      },
      "source": [
        "# função que detecta profundidade da árvore\n",
        "def dectree_max_depth(tree):\n",
        "    children_left = tree.children_left\n",
        "    children_right = tree.children_right\n",
        "\n",
        "    def walk(node_id):\n",
        "        if (children_left[node_id] != children_right[node_id]):\n",
        "            left_max = 1 + walk(children_left[node_id])\n",
        "            right_max = 1 + walk(children_right[node_id])\n",
        "            return max(left_max, right_max)\n",
        "        else: # leaf\n",
        "            return 1\n",
        "\n",
        "    root_node_id = 0\n",
        "    return walk(root_node_id)"
      ],
      "execution_count": 0,
      "outputs": []
    },
    {
      "cell_type": "code",
      "metadata": {
        "id": "JyaoEWy2VJG6",
        "colab_type": "code",
        "outputId": "1f008d63-cae8-41a1-c3b7-1480539ab224",
        "colab": {
          "base_uri": "https://localhost:8080/",
          "height": 85
        }
      },
      "source": [
        "m = RandomForestRegressor(n_estimators=40, n_jobs=-1, oob_score=True)\n",
        "m.fit(X_train, y_train)\n",
        "print_score(m)"
      ],
      "execution_count": 0,
      "outputs": [
        {
          "output_type": "stream",
          "text": [
            "RMSEs:\n",
            "[0.0784978237895985, 0.2365577321207158]\n",
            "R-squared:\n",
            "[0.9871219513963191, 0.9000639292753713, 0.9084567605662913]\n"
          ],
          "name": "stdout"
        }
      ]
    },
    {
      "cell_type": "code",
      "metadata": {
        "id": "g4mHcMEoV_7M",
        "colab_type": "code",
        "outputId": "1e2ee53d-bb9e-42ff-f5ec-6991171d241d",
        "colab": {
          "base_uri": "https://localhost:8080/",
          "height": 34
        }
      },
      "source": [
        "t=m.estimators_[0].tree_\n",
        "dectree_max_depth(t)"
      ],
      "execution_count": 0,
      "outputs": [
        {
          "output_type": "execute_result",
          "data": {
            "text/plain": [
              "46"
            ]
          },
          "metadata": {
            "tags": []
          },
          "execution_count": 155
        }
      ]
    },
    {
      "cell_type": "code",
      "metadata": {
        "id": "FRfejQDYWPgP",
        "colab_type": "code",
        "outputId": "4827fb5b-a83f-4fa2-b376-72b67141e4b3",
        "colab": {
          "base_uri": "https://localhost:8080/",
          "height": 85
        }
      },
      "source": [
        "m2 = RandomForestRegressor(n_estimators=40, min_samples_leaf=5, n_jobs=-1, oob_score=True)\n",
        "m2.fit(X_train, y_train)\n",
        "print_score(m2)"
      ],
      "execution_count": 0,
      "outputs": [
        {
          "output_type": "stream",
          "text": [
            "RMSEs:\n",
            "[0.14067346329265226, 0.23425906355398388]\n",
            "R-squared:\n",
            "[0.958642032710944, 0.9019966819294172, 0.9070834771469374]\n"
          ],
          "name": "stdout"
        }
      ]
    },
    {
      "cell_type": "code",
      "metadata": {
        "id": "832Ou55TXP6z",
        "colab_type": "code",
        "outputId": "8bdf3efc-920a-4219-b039-cfcaac3b9588",
        "colab": {
          "base_uri": "https://localhost:8080/",
          "height": 34
        }
      },
      "source": [
        "t=m2.estimators_[0].tree_\n",
        "dectree_max_depth(t)"
      ],
      "execution_count": 0,
      "outputs": [
        {
          "output_type": "execute_result",
          "data": {
            "text/plain": [
              "38"
            ]
          },
          "metadata": {
            "tags": []
          },
          "execution_count": 158
        }
      ]
    },
    {
      "cell_type": "code",
      "metadata": {
        "id": "2ZzANASxZk__",
        "colab_type": "code",
        "colab": {}
      },
      "source": [
        "m3 = RandomForestRegressor(n_estimators=40, min_samples_leaf=3, max_features=0.5, n_jobs=-1, oob_score=True)\n",
        "m3.fit(X_train, y_train)\n",
        "print_score(m3)"
      ],
      "execution_count": 0,
      "outputs": []
    },
    {
      "cell_type": "markdown",
      "metadata": {
        "id": "_JcWkU_rqUh0",
        "colab_type": "text"
      },
      "source": [
        "### OOB Errors with sklearn example\n",
        "\n",
        "The example below demonstrates how the OOB error can be measured at the addition of each new tree during training. The resulting plot allows a practitioner to approximate a suitable value of n_estimators at which the error stabilizes.\n",
        "\n",
        "Source: T. Hastie, R. Tibshirani and J. Friedman, “Elements of Statistical Learning Ed. 2”, p592-593, Springer, 2009."
      ]
    },
    {
      "cell_type": "code",
      "metadata": {
        "id": "TuYe2xcXqO6w",
        "colab_type": "code",
        "colab": {}
      },
      "source": [
        "from collections import OrderedDict"
      ],
      "execution_count": 0,
      "outputs": []
    },
    {
      "cell_type": "code",
      "metadata": {
        "id": "P9vwKsXDqdOk",
        "colab_type": "code",
        "colab": {}
      },
      "source": [
        "r_state = 333\n",
        "\n",
        "ensemble_regs = [(\"RandomForestRegressor, max_features='sqrt'\", \n",
        "                  RandomForestRegressor(n_estimators=100, min_samples_leaf=3, max_features='sqrt', \n",
        "                                        warm_start=True, oob_score=True, random_state=r_state)),\n",
        "                 (\"RandomForestRegressor, max_features='log2'\",\n",
        "                  RandomForestRegressor(n_estimators=100, min_samples_leaf=3, max_features='log2', \n",
        "                                        warm_start=True, oob_score=True, random_state=r_state)),\n",
        "                 (\"RandomForestRegressor, max_features=None\",\n",
        "                  RandomForestRegressor(n_estimators=100, min_samples_leaf=3, max_features=None, \n",
        "                                        warm_start=True, oob_score=True, random_state=r_state))]"
      ],
      "execution_count": 0,
      "outputs": []
    },
    {
      "cell_type": "code",
      "metadata": {
        "id": "SItNCnKRrSA7",
        "colab_type": "code",
        "colab": {}
      },
      "source": [
        "# Map a classifier name to a list of (<n_estimators>, <error rate>) pairs.\n",
        "error_rate = OrderedDict((label, []) for label, _ in ensemble_regs)"
      ],
      "execution_count": 0,
      "outputs": []
    },
    {
      "cell_type": "code",
      "metadata": {
        "id": "ylZzXfmRuRN6",
        "colab_type": "code",
        "colab": {}
      },
      "source": [
        "# Range of `n_estimators` values to explore.\n",
        "min_estimators = 30\n",
        "max_estimators = 200"
      ],
      "execution_count": 0,
      "outputs": []
    },
    {
      "cell_type": "code",
      "metadata": {
        "id": "olfW23WHuhlz",
        "colab_type": "code",
        "colab": {}
      },
      "source": [
        "for label, reg in ensemble_regs:\n",
        "    for i in range(min_estimators, max_estimators + 1):\n",
        "        reg.set_params(n_estimators=i)\n",
        "        reg.fit(X_train, y_train)\n",
        "\n",
        "        # Record the OOB error for each `n_estimators=i` setting.\n",
        "        oob_error = 1 - reg.oob_score_\n",
        "        error_rate[label].append((i, oob_error))"
      ],
      "execution_count": 0,
      "outputs": []
    },
    {
      "cell_type": "code",
      "metadata": {
        "id": "xbfWlY9BuiHk",
        "colab_type": "code",
        "colab": {}
      },
      "source": [
        "# Generate the \"OOB error rate\" vs. \"n_estimators\" plot.\n",
        "for label, reg_err in error_rate.items():\n",
        "    xs, ys = zip(*reg_err)\n",
        "    plt.plot(xs, ys, label=label)"
      ],
      "execution_count": 0,
      "outputs": []
    },
    {
      "cell_type": "code",
      "metadata": {
        "id": "zISGgJ9UukJC",
        "colab_type": "code",
        "colab": {}
      },
      "source": [
        "plt.xlim(min_estimators, max_estimators)\n",
        "plt.xlabel(\"n_estimators\")\n",
        "plt.ylabel(\"OOB error rate\")\n",
        "plt.legend(loc=\"upper right\")\n",
        "plt.show()"
      ],
      "execution_count": 0,
      "outputs": []
    },
    {
      "cell_type": "markdown",
      "metadata": {
        "id": "Gr0BRJL_R_K-",
        "colab_type": "text"
      },
      "source": [
        "# Lesson 2"
      ]
    },
    {
      "cell_type": "markdown",
      "metadata": {
        "id": "ZzmWIprkUzU2",
        "colab_type": "text"
      },
      "source": [
        "## Setup"
      ]
    },
    {
      "cell_type": "code",
      "metadata": {
        "id": "0SUu6Ji6SBOh",
        "colab_type": "code",
        "colab": {}
      },
      "source": [
        "set_plot_sizes(12,14,16)\n",
        "\n",
        "def split_vals(a,n): return a[:n], a[n:]\n",
        "n_valid = 12000\n",
        "n_trn = len(df_trn)-n_valid\n",
        "X_train, X_valid = split_vals(df_trn, n_trn)\n",
        "y_train, y_valid = split_vals(y_trn, n_trn)\n",
        "raw_train, raw_valid = split_vals(df_raw, n_trn)\n",
        "\n",
        "def rmse(x,y): return math.sqrt(((x-y)**2).mean())\n",
        "\n",
        "def print_score(m):\n",
        "    res = [rmse(m.predict(X_train), y_train), rmse(m.predict(X_valid), y_valid),\n",
        "                m.score(X_train, y_train), m.score(X_valid, y_valid)]\n",
        "    if hasattr(m, 'oob_score_'): res.append(m.oob_score_)\n",
        "    print(res)"
      ],
      "execution_count": 0,
      "outputs": []
    },
    {
      "cell_type": "markdown",
      "metadata": {
        "id": "41l9tqcjVOgN",
        "colab_type": "text"
      },
      "source": [
        "## Confidence based on tree variance"
      ]
    },
    {
      "cell_type": "code",
      "metadata": {
        "id": "leaRzxmtUpwH",
        "colab_type": "code",
        "colab": {}
      },
      "source": [
        ""
      ],
      "execution_count": 0,
      "outputs": []
    }
  ]
}